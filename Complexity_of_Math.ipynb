{
 "cells": [
  {
   "attachments": {},
   "cell_type": "markdown",
   "metadata": {},
   "source": [
    "### 1. Calculating the Length of the MathML tree"
   ]
  },
  {
   "cell_type": "code",
   "execution_count": 4,
   "metadata": {},
   "outputs": [],
   "source": [
    "import xml.etree.ElementTree as ET\n",
    "\n",
    "def calculate_mathml_length(mathml):\n",
    "    \"\"\"\n",
    "    Input: MathML string\n",
    "    Returns: Length of the MathML tree considering only <mi> elements\n",
    "    \"\"\"\n",
    "    tree = ET.fromstring(mathml)  # Parse the MathML string into an ElementTree object\n",
    "    length = calculate_tree_length(tree)  # Calculate the Length of the MathML tree\n",
    "    return length\n",
    "\n",
    "def calculate_tree_length(tree):\n",
    "    \"\"\"\n",
    "    Input: Node of the MathML tree\n",
    "    Returns: Length of the tree considering only <mi> elements\n",
    "    \"\"\"\n",
    "    length = 0  # Initialize the length to 0\n",
    "\n",
    "    if tree.tag == \"mi\":  # If the current node is an <mi> element, count it\n",
    "        length += 1\n",
    "\n",
    "    for child in tree:\n",
    "        length += calculate_tree_length(child)  # Recursively calculate length of each child\n",
    "\n",
    "    return length"
   ]
  },
  {
   "cell_type": "code",
   "execution_count": 6,
   "metadata": {},
   "outputs": [
    {
     "name": "stdout",
     "output_type": "stream",
     "text": [
      "Length of Tree: 5\n"
     ]
    }
   ],
   "source": [
    "# Example 1\n",
    "\n",
    "mathml = '''\n",
    "<math>\n",
    "  <mrow>\n",
    "    <msubsup>\n",
    "      <mi>P</mi>\n",
    "      <mi>n</mi>\n",
    "      <mrow>\n",
    "        <mo>(</mo>\n",
    "        <mi>α</mi>\n",
    "        <mo>,</mo>\n",
    "        <mi>β</mi>\n",
    "        <mo>)</mo>\n",
    "        <mo></mo>\n",
    "      </mrow>\n",
    "    </msubsup>\n",
    "    <mo></mo>\n",
    "    <mrow>\n",
    "      <mo>(</mo>\n",
    "      <mi>x</mi>\n",
    "      <mo>)</mo>\n",
    "    </mrow>\n",
    "  </mrow>\n",
    "</math>\n",
    "'''\n",
    "\n",
    "length = calculate_mathml_length(mathml)\n",
    "print(\"Length of Tree:\", length)\n"
   ]
  },
  {
   "cell_type": "code",
   "execution_count": 7,
   "metadata": {},
   "outputs": [
    {
     "name": "stdout",
     "output_type": "stream",
     "text": [
      "Length of Tree: 2\n"
     ]
    }
   ],
   "source": [
    "# Example 2\n",
    "mathml = '''\n",
    "<mrow>\n",
    "      <mi>P</mi>\n",
    "      <mi>n</mi>\n",
    "</mrow>\n",
    "'''\n",
    "\n",
    "length = calculate_mathml_length(mathml)\n",
    "print(\"Length of Tree:\", length)"
   ]
  },
  {
   "attachments": {},
   "cell_type": "markdown",
   "metadata": {},
   "source": [
    "### 2. Calculating the Depth of the MathML tree"
   ]
  },
  {
   "cell_type": "code",
   "execution_count": 8,
   "metadata": {},
   "outputs": [],
   "source": [
    "import xml.etree.ElementTree as ET\n",
    "\n",
    "def calculate_mathml_complexity(mathml):\n",
    "    tree = ET.fromstring(mathml)  # Parse the MathML string into an ElementTree object\n",
    "    complexity = calculate_tree_depth(tree) - 1  # Calculate the depth of the MathML tree\n",
    "    return complexity\n",
    "\n",
    "def calculate_tree_depth(tree):\n",
    "    if len(tree) == 0:\n",
    "        return 1  # Depth of a single node is 1\n",
    "    \n",
    "    max_child_depth = 0\n",
    "    for child in tree:\n",
    "        child_depth = calculate_tree_depth(child)\n",
    "        max_child_depth = max(max_child_depth, child_depth)\n",
    "    \n",
    "    return max_child_depth + 1  # Depth of the current node is maximum child depth + 1"
   ]
  },
  {
   "cell_type": "code",
   "execution_count": 9,
   "metadata": {},
   "outputs": [
    {
     "name": "stdout",
     "output_type": "stream",
     "text": [
      "Complexity (depth) of the MathML tree: 4\n"
     ]
    }
   ],
   "source": [
    "# Example 1\n",
    "mathml = '''\n",
    "<math>\n",
    "  <mrow>\n",
    "    <msubsup>\n",
    "      <mi>P</mi>\n",
    "      <mi>n</mi>\n",
    "      <mrow>\n",
    "        <mo>(</mo>\n",
    "        <mi>α</mi>\n",
    "        <mo>,</mo>\n",
    "        <mi>β</mi>\n",
    "        <mo>)</mo>\n",
    "        <mo></mo>\n",
    "      </mrow>\n",
    "    </msubsup>\n",
    "    <mo></mo>\n",
    "    <mrow>\n",
    "      <mo>(</mo>\n",
    "      <mi>x</mi>\n",
    "      <mo>)</mo>\n",
    "    </mrow>\n",
    "  </mrow>\n",
    "</math>\n",
    "'''\n",
    "\n",
    "complexity = calculate_mathml_complexity(mathml)\n",
    "print(\"Complexity (depth) of the MathML tree:\", complexity)"
   ]
  },
  {
   "cell_type": "code",
   "execution_count": 11,
   "metadata": {},
   "outputs": [
    {
     "name": "stdout",
     "output_type": "stream",
     "text": [
      "Complexity (depth) of the MathML tree: 1\n"
     ]
    }
   ],
   "source": [
    "# Example 2\n",
    "mathml = '''\n",
    "<math>\n",
    "<mi>P</mi>\n",
    "</math>\n",
    "'''\n",
    "complexity = calculate_mathml_complexity(mathml)\n",
    "print(\"Complexity (depth) of the MathML tree:\", complexity)"
   ]
  },
  {
   "cell_type": "code",
   "execution_count": null,
   "metadata": {},
   "outputs": [],
   "source": []
  }
 ],
 "metadata": {
  "kernelspec": {
   "display_name": "Python 3",
   "language": "python",
   "name": "python3"
  },
  "language_info": {
   "codemirror_mode": {
    "name": "ipython",
    "version": 3
   },
   "file_extension": ".py",
   "mimetype": "text/x-python",
   "name": "python",
   "nbconvert_exporter": "python",
   "pygments_lexer": "ipython3",
   "version": "3.11.4"
  },
  "orig_nbformat": 4
 },
 "nbformat": 4,
 "nbformat_minor": 2
}
