{
 "cells": [
  {
   "attachments": {},
   "cell_type": "markdown",
   "metadata": {},
   "source": [
    "## LaTeX OCR\n",
    "\n",
    "In this notebook you can convert an image of an equation into a LaTeX code.\n",
    "\n",
    "### How?\n",
    "\n",
    "- Execute the cell titled \"Setup\". The first time an error will show up. Simply execute the cell again. Everything should be fine now.\n",
    "\n",
    "- Next, execute the cell below and upload the image(s).\n",
    "\n",
    "Note: You can probably also run this project locally and with a GUI. Follow the steps on [GitHub](https://github.com/lukas-blecher/LaTeX-OCR)"
   ]
  },
  {
   "cell_type": "code",
   "execution_count": 1,
   "metadata": {},
   "outputs": [
    {
     "name": "stderr",
     "output_type": "stream",
     "text": [
      "/Users/swapnilsingh/pix2latex/venv/lib/python3.8/site-packages/tqdm/auto.py:21: TqdmWarning: IProgress not found. Please update jupyter and ipywidgets. See https://ipywidgets.readthedocs.io/en/stable/user_install.html\n",
      "  from .autonotebook import tqdm as notebook_tqdm\n"
     ]
    },
    {
     "data": {
      "text/html": [],
      "text/plain": [
       "<IPython.core.display.HTML object>"
      ]
     },
     "metadata": {},
     "output_type": "display_data"
    }
   ],
   "source": [
    "#@title Setup\n",
    "%reload_ext autoreload\n",
    "%autoreload\n",
    "import PIL\n",
    "\n",
    "if int(PIL.__version__[0]) < 9:\n",
    "    print('Mandatory restart: Execute this cell again!')\n",
    "    import os\n",
    "    os.kill(os.getpid(), 9)\n",
    "\n",
    "\n",
    "from pix2tex import cli as pix2tex\n",
    "from PIL import Image\n",
    "model = pix2tex.LatexOCR()\n",
    "\n",
    "from IPython.display import HTML, Math\n",
    "display(HTML(\"\"))\n",
    "table = r'\\begin{array} {l|l} %s  \\end{array}'"
   ]
  },
  {
   "cell_type": "code",
   "execution_count": 27,
   "metadata": {},
   "outputs": [
    {
     "name": "stdout",
     "output_type": "stream",
     "text": [
      "\\begin{array}{c l c r}{{|\\mathbf{i}\\mathbf{p}\\vert\\displaystyle\\vphantom{s U}\\vphantom{p}\\qquad\\bigl({\\frac{1}{\\vert B\\vert}}\\int_{B}\\bigl(|\\bigl(l-\\e^{-r_{B}^{2}\\cdot{\\cal L}\\bigr)M\\bigr)^{\\frac{1}{2}}\\cdot f(X)\\,Q X\\bigr)|\\frac{1}{2}}}}\\end{array}\n"
     ]
    }
   ],
   "source": [
    "from PIL import Image\n",
    "from pix2tex.cli import LatexOCR\n",
    "\n",
    "img = Image.open('/Users/swapnilsingh/pix2latex/zbmath_latex_image/img22.png')\n",
    "model = LatexOCR()\n",
    "print(model(img))"
   ]
  },
  {
   "cell_type": "code",
   "execution_count": null,
   "metadata": {},
   "outputs": [],
   "source": []
  }
 ],
 "metadata": {
  "kernelspec": {
   "display_name": "pix",
   "language": "python",
   "name": "python3"
  },
  "language_info": {
   "codemirror_mode": {
    "name": "ipython",
    "version": 3
   },
   "file_extension": ".py",
   "mimetype": "text/x-python",
   "name": "python",
   "nbconvert_exporter": "python",
   "pygments_lexer": "ipython3",
   "version": "3.8.6"
  },
  "orig_nbformat": 4
 },
 "nbformat": 4,
 "nbformat_minor": 2
}
